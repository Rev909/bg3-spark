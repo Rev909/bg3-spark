{
 "cells": [
  {
   "cell_type": "code",
   "execution_count": 1,
   "metadata": {
    "collapsed": true
   },
   "outputs": [],
   "source": [
    "import numpy as np\n",
    "import pandas as pd"
   ]
  },
  {
   "cell_type": "code",
   "execution_count": 35,
   "metadata": {
    "collapsed": false
   },
   "outputs": [
    {
     "data": {
      "text/html": [
       "<div>\n",
       "<table border=\"1\" class=\"dataframe\">\n",
       "  <thead>\n",
       "    <tr style=\"text-align: right;\">\n",
       "      <th></th>\n",
       "      <th>Unnamed: 0</th>\n",
       "      <th>text</th>\n",
       "      <th>favorited</th>\n",
       "      <th>favoriteCount</th>\n",
       "      <th>replyToSN</th>\n",
       "      <th>created</th>\n",
       "      <th>truncated</th>\n",
       "      <th>replyToSID</th>\n",
       "      <th>id</th>\n",
       "      <th>replyToUID</th>\n",
       "      <th>statusSource</th>\n",
       "      <th>screenName</th>\n",
       "      <th>retweetCount</th>\n",
       "      <th>isRetweet</th>\n",
       "      <th>retweeted</th>\n",
       "      <th>longitude</th>\n",
       "      <th>latitude</th>\n",
       "    </tr>\n",
       "  </thead>\n",
       "  <tbody>\n",
       "    <tr>\n",
       "      <th>0</th>\n",
       "      <td>1</td>\n",
       "      <td>They ended up being only 6 minutes late. @Delta</td>\n",
       "      <td>False</td>\n",
       "      <td>0</td>\n",
       "      <td>RyanRebholz</td>\n",
       "      <td>2016-07-05 08:51:02</td>\n",
       "      <td>False</td>\n",
       "      <td>7.502384e+17</td>\n",
       "      <td>750250622503440385</td>\n",
       "      <td>380635574.0</td>\n",
       "      <td>&lt;a href=\"http://twitter.com/download/iphone\" r...</td>\n",
       "      <td>RyanRebholz</td>\n",
       "      <td>0</td>\n",
       "      <td>False</td>\n",
       "      <td>False</td>\n",
       "      <td>NaN</td>\n",
       "      <td>NaN</td>\n",
       "    </tr>\n",
       "    <tr>\n",
       "      <th>1</th>\n",
       "      <td>2</td>\n",
       "      <td>@Delta bruh. https://t.co/A8ySuTrADs</td>\n",
       "      <td>False</td>\n",
       "      <td>0</td>\n",
       "      <td>MasaraChannele</td>\n",
       "      <td>2016-07-05 08:43:05</td>\n",
       "      <td>False</td>\n",
       "      <td>7.502484e+17</td>\n",
       "      <td>750248625196797952</td>\n",
       "      <td>471729948.0</td>\n",
       "      <td>&lt;a href=\"http://twitter.com/download/iphone\" r...</td>\n",
       "      <td>MasaraChannele</td>\n",
       "      <td>0</td>\n",
       "      <td>False</td>\n",
       "      <td>False</td>\n",
       "      <td>NaN</td>\n",
       "      <td>NaN</td>\n",
       "    </tr>\n",
       "    <tr>\n",
       "      <th>2</th>\n",
       "      <td>3</td>\n",
       "      <td>So there's just no one working at the @Delta c...</td>\n",
       "      <td>False</td>\n",
       "      <td>0</td>\n",
       "      <td>NaN</td>\n",
       "      <td>2016-07-05 08:42:14</td>\n",
       "      <td>False</td>\n",
       "      <td>NaN</td>\n",
       "      <td>750248410452664320</td>\n",
       "      <td>NaN</td>\n",
       "      <td>&lt;a href=\"http://twitter.com/download/iphone\" r...</td>\n",
       "      <td>MasaraChannele</td>\n",
       "      <td>0</td>\n",
       "      <td>False</td>\n",
       "      <td>False</td>\n",
       "      <td>NaN</td>\n",
       "      <td>NaN</td>\n",
       "    </tr>\n",
       "    <tr>\n",
       "      <th>3</th>\n",
       "      <td>4</td>\n",
       "      <td>Looks like @united is going to end up with bus...</td>\n",
       "      <td>False</td>\n",
       "      <td>0</td>\n",
       "      <td>NaN</td>\n",
       "      <td>2016-07-05 08:42:12</td>\n",
       "      <td>False</td>\n",
       "      <td>NaN</td>\n",
       "      <td>750248402152148993</td>\n",
       "      <td>NaN</td>\n",
       "      <td>&lt;a href=\"http://twitter.com\" rel=\"nofollow\"&gt;Tw...</td>\n",
       "      <td>Mamabreezi</td>\n",
       "      <td>0</td>\n",
       "      <td>False</td>\n",
       "      <td>False</td>\n",
       "      <td>NaN</td>\n",
       "      <td>NaN</td>\n",
       "    </tr>\n",
       "    <tr>\n",
       "      <th>4</th>\n",
       "      <td>5</td>\n",
       "      <td>@nathanielbarney  Awesome! Nathaniel, thanks f...</td>\n",
       "      <td>False</td>\n",
       "      <td>0</td>\n",
       "      <td>nathanielbarney</td>\n",
       "      <td>2016-07-05 08:40:34</td>\n",
       "      <td>False</td>\n",
       "      <td>7.502470e+17</td>\n",
       "      <td>750247992259674112</td>\n",
       "      <td>399184280.0</td>\n",
       "      <td>&lt;a href=\"http://www.sparkcentral.com\" rel=\"nof...</td>\n",
       "      <td>Delta</td>\n",
       "      <td>0</td>\n",
       "      <td>False</td>\n",
       "      <td>False</td>\n",
       "      <td>NaN</td>\n",
       "      <td>NaN</td>\n",
       "    </tr>\n",
       "  </tbody>\n",
       "</table>\n",
       "</div>"
      ],
      "text/plain": [
       "   Unnamed: 0                                               text favorited  \\\n",
       "0           1    They ended up being only 6 minutes late. @Delta     False   \n",
       "1           2               @Delta bruh. https://t.co/A8ySuTrADs     False   \n",
       "2           3  So there's just no one working at the @Delta c...     False   \n",
       "3           4  Looks like @united is going to end up with bus...     False   \n",
       "4           5  @nathanielbarney  Awesome! Nathaniel, thanks f...     False   \n",
       "\n",
       "   favoriteCount        replyToSN              created truncated  \\\n",
       "0              0      RyanRebholz  2016-07-05 08:51:02     False   \n",
       "1              0   MasaraChannele  2016-07-05 08:43:05     False   \n",
       "2              0              NaN  2016-07-05 08:42:14     False   \n",
       "3              0              NaN  2016-07-05 08:42:12     False   \n",
       "4              0  nathanielbarney  2016-07-05 08:40:34     False   \n",
       "\n",
       "     replyToSID                  id   replyToUID  \\\n",
       "0  7.502384e+17  750250622503440385  380635574.0   \n",
       "1  7.502484e+17  750248625196797952  471729948.0   \n",
       "2           NaN  750248410452664320          NaN   \n",
       "3           NaN  750248402152148993          NaN   \n",
       "4  7.502470e+17  750247992259674112  399184280.0   \n",
       "\n",
       "                                        statusSource      screenName  \\\n",
       "0  <a href=\"http://twitter.com/download/iphone\" r...     RyanRebholz   \n",
       "1  <a href=\"http://twitter.com/download/iphone\" r...  MasaraChannele   \n",
       "2  <a href=\"http://twitter.com/download/iphone\" r...  MasaraChannele   \n",
       "3  <a href=\"http://twitter.com\" rel=\"nofollow\">Tw...      Mamabreezi   \n",
       "4  <a href=\"http://www.sparkcentral.com\" rel=\"nof...           Delta   \n",
       "\n",
       "   retweetCount isRetweet retweeted  longitude  latitude  \n",
       "0             0     False     False        NaN       NaN  \n",
       "1             0     False     False        NaN       NaN  \n",
       "2             0     False     False        NaN       NaN  \n",
       "3             0     False     False        NaN       NaN  \n",
       "4             0     False     False        NaN       NaN  "
      ]
     },
     "execution_count": 35,
     "metadata": {},
     "output_type": "execute_result"
    }
   ],
   "source": [
    "tweets = pd.read_csv('./data.csv')\n",
    "tweets.head()\n",
    "tweets.head()"
   ]
  },
  {
   "cell_type": "code",
   "execution_count": 3,
   "metadata": {
    "collapsed": false
   },
   "outputs": [
    {
     "name": "stdout",
     "output_type": "stream",
     "text": [
      "['Unnamed: 0' 'text' 'favorited' 'favoriteCount' 'replyToSN' 'created'\n",
      " 'truncated' 'replyToSID' 'id' 'replyToUID' 'statusSource' 'screenName'\n",
      " 'retweetCount' 'isRetweet' 'retweeted' 'longitude' 'latitude']\n",
      "['Unnamed: 0' 'text' 'favorited' 'favoriteCount' 'replyToSN' 'created'\n",
      " 'truncated' 'replyToSID' 'id' 'replyToUID' 'statusSource' 'screenName'\n",
      " 'retweetCount' 'isRetweet' 'retweeted']\n"
     ]
    }
   ],
   "source": [
    "print tweets.columns.values\n",
    "\n",
    "del tweets['longitude']\n",
    "del tweets['latitude']\n",
    "\n",
    "print tweets.columns.values"
   ]
  },
  {
   "cell_type": "code",
   "execution_count": 4,
   "metadata": {
    "collapsed": false
   },
   "outputs": [
    {
     "name": "stdout",
     "output_type": "stream",
     "text": [
      "Unnamed: 0         int64\n",
      "text              object\n",
      "favorited           bool\n",
      "favoriteCount      int64\n",
      "replyToSN         object\n",
      "created           object\n",
      "truncated           bool\n",
      "replyToSID       float64\n",
      "id                 int64\n",
      "replyToUID       float64\n",
      "statusSource      object\n",
      "screenName        object\n",
      "retweetCount       int64\n",
      "isRetweet           bool\n",
      "retweeted           bool\n",
      "dtype: object\n"
     ]
    }
   ],
   "source": [
    "print tweets.dtypes"
   ]
  },
  {
   "cell_type": "code",
   "execution_count": 5,
   "metadata": {
    "collapsed": false
   },
   "outputs": [
    {
     "name": "stdout",
     "output_type": "stream",
     "text": [
      "500\n"
     ]
    }
   ],
   "source": [
    "print tweets['id'].nunique()"
   ]
  },
  {
   "cell_type": "code",
   "execution_count": 6,
   "metadata": {
    "collapsed": false
   },
   "outputs": [],
   "source": [
    "#tweets.groupby(tweets['screenName']).size()"
   ]
  },
  {
   "cell_type": "code",
   "execution_count": 7,
   "metadata": {
    "collapsed": false
   },
   "outputs": [],
   "source": [
    "import matplotlib.pyplot as plt\n",
    "\n",
    "replyCount = pd.DataFrame(tweets.groupby(tweets['replyToSN']).size().rename('tweetCount')).reset_index()\n",
    "\n",
    "ind = np.arange(len(replyCount.index))  # the x locations for the groups\n",
    "width = 1.0      # the width of the bars\n",
    "\n",
    "plt.bar(ind, replyCount['tweetCount'], width )\n",
    "plt.ylabel('Number of replies to')\n",
    "plt.xlabel('User')\n",
    "plt.xticks(ind + width/2, replyCount['replyToSN'], rotation='vertical')\n",
    "\n",
    "fig_size = plt.rcParams[\"figure.figsize\"]\n",
    "fig_size[0] = 20\n",
    "fig_size[1] = 10\n",
    "\n",
    "plt.savefig('barchart.png')\n",
    "plt.close()"
   ]
  },
  {
   "cell_type": "code",
   "execution_count": 59,
   "metadata": {
    "collapsed": false
   },
   "outputs": [],
   "source": [
    "from datetime import datetime\n",
    "\n",
    "hours = []\n",
    "\n",
    "for strDate in tweets['created']:\n",
    "    date = datetime.strptime(strDate, '%Y-%m-%d %H:%M:%S')\n",
    "    hours.append(date.hour)\n",
    "\n",
    "hours = pd.Series(np.array(hours))\n",
    "tweets['hour'] = hours\n",
    "tweetPerHour = pd.DataFrame(tweets.groupby(tweets['hour']).size().rename('tweetCount')).reset_index()\n",
    "tweetPerHour['hour'][0] = 24 # Replace hour 0 by 24\n",
    "\n",
    "hours = np.arange(1,25)\n",
    "nbrTweets = []\n",
    "\n",
    "for hour in hours:\n",
    "    notInDF = True\n",
    "    for i, row in enumerate(tweetPerHour['hour']):\n",
    "        if row == hour:\n",
    "            notInDF = False\n",
    "            nbrTweets.append(tweetPerHour['tweetCount'][i])\n",
    "            \n",
    "    if notInDF:\n",
    "        nbrTweets.append(0)\n",
    "        \n",
    "\n",
    "plt.plot(hours, nbrTweets)\n",
    "plt.plot(hours, nbrTweets, 'ro')\n",
    "plt.xlabel('Hours of day')\n",
    "plt.ylabel('Numbers of tweet')\n",
    "fig_size = plt.rcParams[\"figure.figsize\"]\n",
    "fig_size[0] = 10\n",
    "fig_size[1] = 5\n",
    "\n",
    "plt.savefig('linechart.png')"
   ]
  },
  {
   "cell_type": "code",
   "execution_count": 16,
   "metadata": {
    "collapsed": false
   },
   "outputs": [],
   "source": [
    "from wordcloud import WordCloud\n",
    "\n",
    "words = ''\n",
    "\n",
    "for word in tweets['screenName']:\n",
    "    words += word + \" \"\n",
    "\n",
    "wordcloud = WordCloud(max_font_size=30).generate(words)\n",
    "\n",
    "\n",
    "plt.imshow(wordcloud)\n",
    "plt.axis(\"off\")\n",
    "plt.savefig('wordcloud.png')\n",
    "plt.close()"
   ]
  }
 ],
 "metadata": {
  "anaconda-cloud": {},
  "kernelspec": {
   "display_name": "Python [conda root]",
   "language": "python",
   "name": "conda-root-py"
  },
  "language_info": {
   "codemirror_mode": {
    "name": "ipython",
    "version": 2
   },
   "file_extension": ".py",
   "mimetype": "text/x-python",
   "name": "python",
   "nbconvert_exporter": "python",
   "pygments_lexer": "ipython2",
   "version": "2.7.12"
  }
 },
 "nbformat": 4,
 "nbformat_minor": 1
}
